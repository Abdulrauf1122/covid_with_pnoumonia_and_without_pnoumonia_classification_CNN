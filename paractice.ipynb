{
 "cells": [
  {
   "cell_type": "code",
   "execution_count": 45,
   "metadata": {},
   "outputs": [],
   "source": [
    "import cv2\n",
    "import numpy as np\n",
    "from tensorflow.keras.models import Sequential\n",
    "from tensorflow.keras.layers import Conv2D, MaxPooling2D, Flatten, Dense\n",
    "from tensorflow.keras.preprocessing.image import ImageDataGenerator\n",
    "from PIL import Image"
   ]
  },
  {
   "cell_type": "code",
   "execution_count": 46,
   "metadata": {},
   "outputs": [],
   "source": [
    "data_dir = \"Data\""
   ]
  },
  {
   "cell_type": "code",
   "execution_count": 47,
   "metadata": {},
   "outputs": [],
   "source": [
    "img_size = (64, 64)\n",
    "batch_size = 32"
   ]
  },
  {
   "cell_type": "code",
   "execution_count": 48,
   "metadata": {},
   "outputs": [],
   "source": [
    "train_datagen = ImageDataGenerator(rescale=1./255)\n",
    "test_datagen = ImageDataGenerator(rescale=1./255)"
   ]
  },
  {
   "cell_type": "code",
   "execution_count": 49,
   "metadata": {},
   "outputs": [
    {
     "name": "stdout",
     "output_type": "stream",
     "text": [
      "Found 450 images belonging to 2 classes.\n"
     ]
    }
   ],
   "source": [
    "train_generator = train_datagen.flow_from_directory(\n",
    "    data_dir + \"/train\",\n",
    "    target_size=img_size,\n",
    "    batch_size=batch_size,\n",
    "    class_mode='binary'\n",
    ")"
   ]
  },
  {
   "cell_type": "code",
   "execution_count": 50,
   "metadata": {},
   "outputs": [
    {
     "name": "stdout",
     "output_type": "stream",
     "text": [
      "Found 81 images belonging to 2 classes.\n"
     ]
    }
   ],
   "source": [
    "test_generator = test_datagen.flow_from_directory(\n",
    "    data_dir + \"/test\",\n",
    "    target_size=img_size,\n",
    "    batch_size=batch_size,\n",
    "    class_mode='binary'\n",
    ")"
   ]
  },
  {
   "cell_type": "code",
   "execution_count": 51,
   "metadata": {},
   "outputs": [],
   "source": [
    "model = Sequential()\n",
    "model.add(Conv2D(32, (3, 3), activation='relu', input_shape=(64, 64, 3)))\n",
    "model.add(MaxPooling2D(pool_size=(2, 2)))\n",
    "model.add(Flatten())\n",
    "model.add(Dense(units=128, activation='relu'))\n",
    "model.add(Dense(units=1, activation='sigmoid'))"
   ]
  },
  {
   "cell_type": "code",
   "execution_count": 52,
   "metadata": {},
   "outputs": [],
   "source": [
    "model.compile(optimizer='adam', loss='binary_crossentropy', metrics=['accuracy'])"
   ]
  },
  {
   "cell_type": "code",
   "execution_count": 53,
   "metadata": {},
   "outputs": [
    {
     "name": "stdout",
     "output_type": "stream",
     "text": [
      "Epoch 1/10\n",
      "15/15 [==============================] - 10s 591ms/step - loss: 0.9287 - accuracy: 0.5400 - val_loss: 0.4886 - val_accuracy: 0.9259\n",
      "Epoch 2/10\n",
      "15/15 [==============================] - 8s 514ms/step - loss: 0.4423 - accuracy: 0.8933 - val_loss: 0.3356 - val_accuracy: 0.8889\n",
      "Epoch 3/10\n",
      "15/15 [==============================] - 8s 509ms/step - loss: 0.2792 - accuracy: 0.9444 - val_loss: 0.1685 - val_accuracy: 0.9506\n",
      "Epoch 4/10\n",
      "15/15 [==============================] - 8s 514ms/step - loss: 0.2000 - accuracy: 0.9467 - val_loss: 0.2094 - val_accuracy: 0.9506\n",
      "Epoch 5/10\n",
      "15/15 [==============================] - 8s 520ms/step - loss: 0.2090 - accuracy: 0.9289 - val_loss: 0.1501 - val_accuracy: 0.9506\n",
      "Epoch 6/10\n",
      "15/15 [==============================] - 8s 514ms/step - loss: 0.1800 - accuracy: 0.9444 - val_loss: 0.1160 - val_accuracy: 0.9506\n",
      "Epoch 7/10\n",
      "15/15 [==============================] - 8s 512ms/step - loss: 0.1831 - accuracy: 0.9378 - val_loss: 0.1959 - val_accuracy: 0.9383\n",
      "Epoch 8/10\n",
      "15/15 [==============================] - 8s 538ms/step - loss: 0.1548 - accuracy: 0.9489 - val_loss: 0.0809 - val_accuracy: 0.9630\n",
      "Epoch 9/10\n",
      "15/15 [==============================] - 8s 519ms/step - loss: 0.1497 - accuracy: 0.9489 - val_loss: 0.0907 - val_accuracy: 0.9506\n",
      "Epoch 10/10\n",
      "15/15 [==============================] - 8s 504ms/step - loss: 0.1399 - accuracy: 0.9556 - val_loss: 0.1210 - val_accuracy: 0.9506\n"
     ]
    },
    {
     "data": {
      "text/plain": [
       "<keras.src.callbacks.History at 0x1dca2f3f7d0>"
      ]
     },
     "execution_count": 53,
     "metadata": {},
     "output_type": "execute_result"
    }
   ],
   "source": [
    "model.fit(train_generator, epochs=10, validation_data=test_generator)"
   ]
  },
  {
   "cell_type": "code",
   "execution_count": 84,
   "metadata": {},
   "outputs": [],
   "source": [
    "image_path = 'C:/Users/Abdul Rauf Afridi/Music/covid/without (2).png'\n",
    "image = cv2.imread(image_path)"
   ]
  },
  {
   "cell_type": "code",
   "execution_count": 85,
   "metadata": {},
   "outputs": [],
   "source": [
    "resized_image = cv2.resize(image, img_size)\n",
    "normalized_image = resized_image / 255.0\n",
    "reshaped_image = np.reshape(normalized_image, (1, 64, 64, 3))"
   ]
  },
  {
   "cell_type": "code",
   "execution_count": 88,
   "metadata": {},
   "outputs": [
    {
     "name": "stdout",
     "output_type": "stream",
     "text": [
      "1/1 [==============================] - 0s 56ms/step\n"
     ]
    }
   ],
   "source": [
    "prediction = model.predict(reshaped_image)\n",
    "class_label = \"covid_without_PNEUMONIA\" if prediction > 0.5 else \"covid_with_PNEUMONIA\""
   ]
  },
  {
   "cell_type": "code",
   "execution_count": 89,
   "metadata": {},
   "outputs": [
    {
     "name": "stdout",
     "output_type": "stream",
     "text": [
      "Class: covid_without_PNEUMONIA\n"
     ]
    }
   ],
   "source": [
    "print(f\"Class: {class_label}\")"
   ]
  },
  {
   "cell_type": "code",
   "execution_count": null,
   "metadata": {},
   "outputs": [],
   "source": []
  }
 ],
 "metadata": {
  "kernelspec": {
   "display_name": "Python 3",
   "language": "python",
   "name": "python3"
  },
  "language_info": {
   "codemirror_mode": {
    "name": "ipython",
    "version": 3
   },
   "file_extension": ".py",
   "mimetype": "text/x-python",
   "name": "python",
   "nbconvert_exporter": "python",
   "pygments_lexer": "ipython3",
   "version": "3.11.5"
  }
 },
 "nbformat": 4,
 "nbformat_minor": 2
}
